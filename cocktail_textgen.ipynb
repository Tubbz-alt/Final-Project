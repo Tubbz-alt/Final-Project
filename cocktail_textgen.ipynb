{
  "nbformat": 4,
  "nbformat_minor": 0,
  "metadata": {
    "colab": {
      "name": "cocktail_textgen.ipynb",
      "version": "0.3.2",
      "provenance": [],
      "include_colab_link": true
    },
    "kernelspec": {
      "name": "python3",
      "display_name": "Python 3"
    },
    "accelerator": "GPU"
  },
  "cells": [
    {
      "cell_type": "markdown",
      "metadata": {
        "id": "view-in-github",
        "colab_type": "text"
      },
      "source": [
        "<a href=\"https://colab.research.google.com/github/shortpoet/Final-Project/blob/master/cocktail_textgen.ipynb\" target=\"_parent\"><img src=\"https://colab.research.google.com/assets/colab-badge.svg\" alt=\"Open In Colab\"/></a>"
      ]
    },
    {
      "metadata": {
        "id": "GCp-z34K9bJW",
        "colab_type": "code",
        "colab": {
          "base_uri": "https://localhost:8080/",
          "height": 105
        },
        "outputId": "a129bbec-6362-4958-e812-9fd8b3960654"
      },
      "cell_type": "code",
      "source": [
        "#import dependencies\n",
        "from google.colab import files\n",
        "from textgenrnn import textgenrnn"
      ],
      "execution_count": 1,
      "outputs": [
        {
          "output_type": "stream",
          "text": [
            "Using TensorFlow backend.\n"
          ],
          "name": "stderr"
        },
        {
          "output_type": "stream",
          "text": [
            "WARNING:tensorflow:From /usr/local/lib/python3.6/dist-packages/tensorflow/python/framework/op_def_library.py:263: colocate_with (from tensorflow.python.framework.ops) is deprecated and will be removed in a future version.\n",
            "Instructions for updating:\n",
            "Colocations handled automatically by placer.\n"
          ],
          "name": "stdout"
        }
      ]
    },
    {
      "metadata": {
        "id": "t1ToPU5QBFjC",
        "colab_type": "text"
      },
      "cell_type": "markdown",
      "source": [
        "## Upload Files"
      ]
    },
    {
      "metadata": {
        "id": "pHy1X5EA9256",
        "colab_type": "code",
        "colab": {
          "resources": {
            "http://localhost:8080/nbextensions/google.colab/files.js": {
              "data": "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",
              "ok": true,
              "headers": [
                [
                  "content-type",
                  "application/javascript"
                ]
              ],
              "status": 200,
              "status_text": ""
            }
          },
          "base_uri": "https://localhost:8080/",
          "height": 74
        },
        "outputId": "0c76a23a-beb3-4549-bf8c-01e2afaccdca"
      },
      "cell_type": "code",
      "source": [
        "#upload text (and model files once trained)\n",
        "uploaded = files.upload()"
      ],
      "execution_count": 2,
      "outputs": [
        {
          "output_type": "display_data",
          "data": {
            "text/html": [
              "\n",
              "     <input type=\"file\" id=\"files-3394f705-3993-4915-8c5c-10c479930c76\" name=\"files[]\" multiple disabled />\n",
              "     <output id=\"result-3394f705-3993-4915-8c5c-10c479930c76\">\n",
              "      Upload widget is only available when the cell has been executed in the\n",
              "      current browser session. Please rerun this cell to enable.\n",
              "      </output>\n",
              "      <script src=\"/nbextensions/google.colab/files.js\"></script> "
            ],
            "text/plain": [
              "<IPython.core.display.HTML object>"
            ]
          },
          "metadata": {
            "tags": []
          }
        },
        {
          "output_type": "stream",
          "text": [
            "Saving cocktails_text.txt to cocktails_text.txt\n"
          ],
          "name": "stdout"
        }
      ]
    },
    {
      "metadata": {
        "id": "FMaN1OGU-Acu",
        "colab_type": "code",
        "colab": {
          "base_uri": "https://localhost:8080/",
          "height": 34
        },
        "outputId": "ef783dde-b49a-4823-e8b4-427b52f3b32a"
      },
      "cell_type": "code",
      "source": [
        "#print keys of uploaded files\n",
        "for fn in uploaded.keys():\n",
        "  print('User uploaded file \"{name}\" with length {length} bytes'.format(name=fn, length=len(uploaded[fn])))"
      ],
      "execution_count": 3,
      "outputs": [
        {
          "output_type": "stream",
          "text": [
            "User uploaded file \"cocktails_text.txt\" with length 219733 bytes\n"
          ],
          "name": "stdout"
        }
      ]
    },
    {
      "metadata": {
        "id": "Y5a03aJcBL9L",
        "colab_type": "text"
      },
      "cell_type": "markdown",
      "source": [
        "# Training the model for the first time"
      ]
    },
    {
      "metadata": {
        "id": "z_I2nq9K-mxd",
        "colab_type": "code",
        "colab": {
          "base_uri": "https://localhost:8080/",
          "height": 5120
        },
        "outputId": "db90d2c3-da15-4a75-bed6-c41d1df789fe"
      },
      "cell_type": "code",
      "source": [
        "#name textgen model\n",
        "textgen = textgenrnn(name=\"cocktail_model\")\n",
        "\n",
        "#train model from text file\n",
        "textgen.train_from_file(\"cocktails_text.txt\",\n",
        "                        new_model = True,\n",
        "                        rnn_bidirectional=True,\n",
        "                        rnn_layers = 5,\n",
        "                        rnn_size=128,\n",
        "                        dim_embeddings=100,\n",
        "                        num_epochs=10)"
      ],
      "execution_count": 4,
      "outputs": [
        {
          "output_type": "stream",
          "text": [
            "988 texts collected.\n",
            "Training new model w/ 5-layer, 128-cell Bidirectional LSTMs\n",
            "Training on 218,467 character sequences.\n",
            "WARNING:tensorflow:From /usr/local/lib/python3.6/dist-packages/tensorflow/python/ops/math_ops.py:3066: to_int32 (from tensorflow.python.ops.math_ops) is deprecated and will be removed in a future version.\n",
            "Instructions for updating:\n",
            "Use tf.cast instead.\n",
            "WARNING:tensorflow:From /usr/local/lib/python3.6/dist-packages/tensorflow/python/ops/math_grad.py:102: div (from tensorflow.python.ops.math_ops) is deprecated and will be removed in a future version.\n",
            "Instructions for updating:\n",
            "Deprecated in favor of operator or tf.math.divide.\n",
            "Epoch 1/10\n",
            "1706/1706 [==============================] - 244s 143ms/step - loss: 1.0142\n",
            "####################\n",
            "Temperature: 0.2\n",
            "####################\n",
            "brande - cocktail glass - 1 1/2 oz lemon juice - 1 oz sweet vermouth - 1 oz lemon juice - 1 oz lemon juice - 1 oz lemon juice - 1 oz lemon juice - 1 oz sweet vermouth - 1 oz sweet vermouth - 1 oz sweet vermouth - 1 oz lemon juice - 1 oz lemon juice - 1 oz lemon juice - 1 oz sweet vermouth - 1 oz l\n",
            "\n",
            "been cocktail - cocktail glass - 1 1/2 oz lemon juice - 1 oz sweet vermouth - 1 oz lemon juice - 1 oz sweet vermouth - 1 1/2 oz sweet vermouth - 1 oz lemon juice - 1 oz sweet vermouth - 1 oz lemon juice - 1 oz lemon juice - 1 oz lemon juice - 1 oz lemon juice - 1 oz sweet vermouth - 1 oz lemon jui\n",
            "\n",
            "bulle - cocktail glass - 1 1/2 oz dry vermouth - 1 oz sweet vermouth - 1 oz sweet vermouth - 1 oz gin - 1/2 oz lemon juice - 1 oz sweet vermouth - 1 oz lemon juice - 1 oz sweet vermouth - 1 oz sweet vermouth - 1 oz gin - 1 oz lemon juice - 1 oz sweet vermouth - 1 oz gin - 1 oz lemon juice - 1/2 oz\n",
            "\n",
            "####################\n",
            "Temperature: 0.5\n",
            "####################\n",
            "mande - cocktail glass - 1 oz sweet vermouth - 1 oz dry vermouth - 1 oz sweet vermouth - 1/4 oz apple brandy - 1 oz sweet vermouth - 1/2 oz lemon juice - 1 1/2 oz lime juice - 1 oz lemon juice - 1/4 oz lemon juice - 1 1/2 oz sweet vermouth - 1 oz lemon juice - 1 oz orange juice - 1 1/2 oz sweet ve\n",
            "\n",
            "ble de tequila - cocktail glass - 1/2 oz egg white - stir with ice and strain into chilled cocktail glass.\n",
            "\n",
            "beranis - cocktail glass - 1 oz lemon juice - 1 1/2 oz sweet vermouth - 1 oz apple brandy - 1/2 oz dry vodka - special ingredients: cherry-flavored vodka - 1/2 oz lime juice - 1 oz dry vermouth - special ingredients: lemon slice - stir with ice and strain into cocktail glass on blende shake with i\n",
            "\n",
            "####################\n",
            "Temperature: 1.0\n",
            "####################\n",
            "tosecop mitt - highball glass - 2 oz dry1 vhanco tequila - 1/2 oz applejugac bree lime - 1/4 oz orange juice - shake with ice and strain into chilled cocktail glass into glass with two ice cubes.\n",
            "\n",
            "bery dequilla ef-apple - 2 oz dry vermouth - 1/4 oz lemon juice - special ingredients: peashe-flavored, mudate - 1/4 oz powdered sugar - 1 oz lemon draquila - 1 oz sarpruss - 3 oz orgeat cream - 1/4 oz dry vermouth - 1/4 oz ane syit - 1/2 oz lime juice - 1 oz egg yolk - shake with ice and strain i\n",
            "\n",
            "4isint durge - old-fashioned glass - 1 1/2 oz simple syrup - stir with ice and strain into cocktail glass.\n",
            "\n",
            "Epoch 2/10\n",
            "1706/1706 [==============================] - 239s 140ms/step - loss: 0.5115\n",
            "####################\n",
            "Temperature: 0.2\n",
            "####################\n",
            "chillo cocktail - cocktail glass - 1 oz vodka - 1/2 oz simple syrup - 1/2 oz simple syrup - 1/2 oz simple syrup - 1/2 oz triple sec - 1/2 oz triple sec - 1/2 oz simple syrup - 1/2 oz simple syrup - 1/2 oz simple syrup - 1/2 oz simple syrup - 1/2 oz lime juice - 1/2 oz simple syrup - 1/2 oz simple \n",
            "\n",
            "calarandy - cocktail glass - 1 oz vodka - 1/2 oz simple syrup - 1/2 oz simple syrup - 1/2 oz simple syrup - 1/2 oz triple sec - 1/2 oz simple syrup - 1 oz lime juice - 1/2 oz apricot flavored vodka - 1/2 oz simple syrup - 1/2 oz simple syrup - 1/2 oz triple sec - 1/2 oz simple syrup - 1/2 oz simpl\n",
            "\n",
            "chiller cocktail - cocktail glass - 1 oz light rum - 1/2 oz lime juice - 1/2 oz simple syrup - 1/2 oz simple syrup - 1/2 oz simple syrup - 1/2 oz simple syrup - 1/2 oz triple sec - 1/2 oz lime juice - 1/2 oz simple syrup - 1/2 oz apricot flavored vodka - 1/2 oz simple syrup - 1/2 oz lime juice - 1\n",
            "\n",
            "####################\n",
            "Temperature: 0.5\n",
            "####################\n",
            "cherry beer - cocktail glass - 1 oz blanco tequila - 1/2 oz simple syrup - 1/2 oz dry gin - 1/2 oz lime juice - 1/2 oz lemon juice - 1/2 oz apricot flavored brandy - 1/2 oz blanco tequila - 1/2 oz sweet vermouth - 1/2 oz simple syrup - 1/2 oz triple sec - 1 oz simple syrup - 1/2 oz triple sec - 1/\n",
            "\n",
            "cocktail - cocktail glass - 1 oz vodka - 3/4 oz lemon juice - 1/2 oz orange juice - 1/2 oz lime juice - 1/2 oz lime juice - 1 oz apricot flavored vodka - 3/4 oz simple syrup - 1/2 oz apricot flavored vodka - 1/2 oz lime juice - 1/2 oz simple syrup - 2 oz pineapple juice - 1/2 oz apricot flavored v\n",
            "\n",
            "bulon cocktail - cocktail glass - 1/2 oz vodka - 1/2 oz apricot flavored brandy - 1/2 oz simple syrup - 1/2 oz simple syrup - 1/2 oz simple syrup - 1/2 oz chilled sparkling wine - 1/2 oz dry vermouth - 1 oz simple syrup - 1/2 oz simple syrup - 1/2 oz apricot-flavored vodka - 1 oz sweet vermouth - \n",
            "\n",
            "####################\n",
            "Temperature: 1.0\n",
            "####################\n",
            "byuly braity - collins glass - 1 oz singled surain whiskey - 1/2 oz vodka - shake with ice and strain into old-fashioned glass. garnish with a lime slice.\n",
            "\n",
            "swillauten milk - cocktail glass - 1 oz vodka - shake with ice and strain into highball glass. add rum and shake. add ireffl ice and garnish with a cherry.\n",
            "\n",
            "cocolatin cocktail - cocktail glass - 3 oz tawnal - special ingredients: kupple sers - squeic and syrup, absinthe into orange shirly. shake. top. shake with ice and strain into cocktail glass. garnish with a lemon twist.\n",
            "\n",
            "Epoch 3/10\n",
            "1706/1706 [==============================] - 238s 140ms/step - loss: 0.4455\n",
            "####################\n",
            "Temperature: 0.2\n",
            "####################\n",
            "block cocktail - cocktail glass - 2 oz blended scotch whisky - 1 oz lime juice - 1/2 oz lime juice - 1/2 oz lime juice - 1 oz peach-flavored vodka - 1/2 oz lime juice - 1/2 oz lime juice - 1/2 oz lemon juice - 1/2 oz lemon juice - 1 oz lime juice - 1/2 oz lemon juice - 1/2 oz lime juice - 1/2 oz l\n",
            "\n",
            "bloody cocktail - cocktail glass - 2 oz blanco tequila - 1/2 oz simple syrup - 1 oz lime juice - 1/2 oz lime juice - 1/2 oz lime juice - 1/2 oz lime juice - 1/2 oz lime juice - 1/2 oz lemon juice - 1/2 oz simple syrup - 1 oz blended scotch whisky - 1/2 oz simple syrup - 1/2 oz lime juice - 1/2 oz \n",
            "\n",
            "blencocock - cocktail glass - 2 oz blended scotch whisky - 1/2 oz lime juice - 1/2 oz lemon juice - 1/2 oz lime juice - 1 oz peach-flavored vodka - 1 oz peach-flavored vodka - 1 oz lime juice - 1/2 oz lime juice - 1/2 oz simple syrup - 2 oz blended scotch whisky - 1/2 oz lime juice - 1/2 oz lime j\n",
            "\n",
            "####################\n",
            "Temperature: 0.5\n",
            "####################\n",
            "bully cocktail - cocktail glass - 2 oz blended whiskey - 1/2 oz lemon juice - 1/2 oz simple syrup - 2 oz gin - 1 oz egg white - 1/2 oz lemon juice - 1/2 oz grenadine - 1 oz lime juice - 1 oz egg white - 1 oz grenadine - 1/2 oz lime juice - 1/2 oz grenadine - 1 oz peach-flavored vodka - 1 oz lime j\n",
            "\n",
            "dechilla cocktail - cocktail glass - 1 1/2 oz blended scotch whisky - 1 oz orange juice - 1 oz dry vermouth - 1 oz grenadine - 1 oz egg white - 1 oz orange bitters - 1/2 oz lemon juice - 1/2 oz lime juice - 1 oz simple syrup - 1 oz lime juice - 1/2 oz brandy - 1/2 oz lime juice - 1/2 oz sweet verm\n",
            "\n",
            "pallina cocktail - cocktail glass - 2 oz blended whiskey - 1/2 oz lime juice - 1/2 oz lime juice - 1/2 oz lime juice - 1 oz peach-flavored breezer curacao - 1 oz lime juice - 1 oz bitters - 1/4 oz triple sec - 1/2 oz lemon juice - 1 oz orange juice - 1 oz simple syrup - 2 oz apple brandy - 1/2 oz \n",
            "\n",
            "####################\n",
            "Temperature: 1.0\n",
            "####################\n",
            "drobarit bloe spicken - cocktail glass - 2 oz blanco tequila - 1/2 oz citrus-flavored vodka - 1 oz simple syrup - 2 oz carbonated water - 1 1/2 oz benedictine - 1 oz angostura bitters - 1 1/2 oz vodka - 1 oz light rum - 1/2 oz triple sec - 1/2 oz mink - 1 oz mownet - 2 oz white creme de menthe - 1\n",
            "\n",
            "blued blende - cocktail glass - 3 oz owiste tisters - 1/2 oz dubonnet - 1/2 oz vodka - 1 oz triple sec - 1/4 oz lemon juice - 1 oz sugar - 1 oz egg - 1/2 oz amaretto - 2 oz egg yolk - special ingredients: lemon twist - shake with ice and strain into cocktail glass. garnish with a sticly pepper.\n",
            "\n",
            "flahe in-rose cocktail - cocktail glass - 1 oz light cream - 2 oz vodka - 1/4 oz peychaud's bitters - 2 oz blended scotch whisky - 2 oz blended whiskey - 1/2 oz lime juice - 1/2 oz lime juice - 2 oz bitters - 1/2 oz orange juice - 2 oz benedictine - 1 oz powdered sugar - 2 oz gin - 1/2 oz pleme se\n",
            "\n",
            "Epoch 4/10\n",
            "1706/1706 [==============================] - 239s 140ms/step - loss: 0.4030\n",
            "####################\n",
            "Temperature: 0.2\n",
            "####################\n",
            "saronno - cocktail glass - 1 1/2 oz bourbon - 1/2 oz lemon juice - 1/2 oz lime juice - 1/2 oz simple syrup - special ingredients: lemon twist - shake with ice and strain into cocktail glass.\n",
            "\n",
            "sherry strang - collins glass - 1 1/2 oz light rum - 1 oz lemon juice - 1/2 oz simple syrup - 1 oz simple syrup - special ingredients: lemon slice - shake with ice and strain into cocktail glass. garnish with an orange slice.\n",
            "\n",
            "speach cocon - collins glass - 1 1/2 oz dry vermouth - 1/2 oz simple syrup - special ingredients: lemon twist - shake with ice and strain into cocktail glass. garnish with a lemon twist.\n",
            "\n",
            "####################\n",
            "Temperature: 0.5\n",
            "####################\n",
            "coffe coldins - collins glass - 2 oz gin - 1/2 oz simple syrup - special ingredients: lemon slice, cherry - shake with ice and strain into cocktail glass.\n",
            "\n",
            "rock bala cocktail - cocktail glass - 1 1/2 oz gin - 1 1/2 oz simple syrup - 1/2 oz lemon juice - 1/2 oz simple syrup - 1 1/2 oz simple syrup - 1 oz grenadine - 1 oz angostura bitters - special ingredients: strawberry - shake with ice and strain into cocktail glass.\n",
            "\n",
            "coffe shack cocoa - collins glass - 1 1/2 oz sloe gin - shake with ice and strain into cocktail glass.\n",
            "\n",
            "####################\n",
            "Temperature: 1.0\n",
            "####################\n",
            "scotch jule - 1colcacaco scout - 1/4 oz apple brandy - 1 oz lime juice - stir with ice and strain into chilled cocktail glass.\n",
            "\n",
            "simpouter collins collins - old-fashioned glass - 2 1/2 oz bourbon - 1/2 oz demonnet - 1 1/2 oz simple syrup - 1/2 oz grape juice - shake with ice and strain into cocktail glass.\n",
            "\n",
            "maxisaha - old-fashioned glass - 1 1/2 oz gille shake - 1 oz powdered sugar - 1 1/2 oz sherry - 1/2 oz sterry - 2 1/2 oz gin - 1 1/2 oz lemon juice - 1 he green chartreuse , cherry - special ingredients: lime slice - shake with ice and strain into cocktail glass.\n",
            "\n",
            "Epoch 5/10\n",
            "1706/1706 [==============================] - 242s 142ms/step - loss: 0.3714\n",
            "####################\n",
            "Temperature: 0.2\n",
            "####################\n",
            "rock &  - cocktail glass - 1 1/2 oz blanco tequila - 1/2 oz lime juice - 1 oz powdered sugar - 1 1/2 oz gin - 1 oz egg white - special ingredients: orange slice - shake with ice and strain into cocktail glass.\n",
            "\n",
            "carron cocktail - cocktail glass - 1 1/2 oz blanco tequila - 1 oz lime juice - 1/2 oz lime juice - 1 oz lime juice - 1 oz powdered sugar - 1 1/2 oz gin - 1 oz powdered sugar - 1 1/2 oz gin - 1 oz egg white - special ingredients: lemon twist - shake with ice and strain into cocktail glass.\n",
            "\n",
            "rockey cocktail - cocktail glass - 1 1/2 oz blanco tequila - 1 oz powdered sugar - 1 1/2 oz brandy - 1 oz lime juice - 1 oz powdered sugar - 1 1/2 oz angoster - 1 oz powdered sugar - 1 1/2 oz gin - 1 oz powdered sugar - 1 1/2 oz gin - 1 oz powdered sugar - 1 1/2 oz blanco tequila - 1 oz lime juice\n",
            "\n",
            "####################\n",
            "Temperature: 0.5\n",
            "####################\n",
            "bourbon and fizz - highball glass - 1 1/2 oz gin - shake with ice and strain into chilled cocktail glass. garnish with a lemon slice.\n",
            "\n",
            "martini - collins glass - 1 1/2 oz vodka - 1 oz lemon juice - 1 oz each lime juice - special ingredients: lemon slice - shake with ice and strain into chilled cocktail glass.\n",
            "\n",
            "parache - cocktail glass - 1 1/2 oz blanco tequila - 1 oz white creme de cacao - 1 oz angostura bitters - shake with ice and strain into cocktail glass.\n",
            "\n",
            "####################\n",
            "Temperature: 1.0\n",
            "####################\n",
            "binal gawbog beatlove - cocktail glass - 1 1/2 oz rum - 1 1/2 oz sweet vermouth - 1 oz lemon juice - 1 1/2 oz peach schnapps - special ingredients: lime slice - shake with ice and strain into collins glass with ice cubes, fill with ginger ale. stir gently.\n",
            "\n",
            "rum thonitter - cocktail glass - 1 1/2 oz dry gin - 1/2 oz amaretto - 1 oz peach schnapps - 2 oz gin - 3/4 oz sweet vermouth - stir with ice and strain into chilled cocktail glass. garnish with mint.\n",
            "\n",
            "royale - cocktail glass - 1 1/2 oz blanco tequila - 1 1/2 oz amaretto - 1 1/2 oz lemon juice - 1 oz simple syrup - 6 1/2 oz rum - special ingredients: pickle - stir remaining ingredients with ice and pour with ice and strain into ice-filled old-fashioned glass. garnish with skewered amaretto the s\n",
            "\n",
            "Epoch 6/10\n",
            "1706/1706 [==============================] - 240s 141ms/step - loss: 0.3412\n",
            "####################\n",
            "Temperature: 0.2\n",
            "####################\n",
            "carbona cocktail - cocktail glass - 1 1/2 oz light rum - 1/2 oz lime juice - 1 oz lemon juice - 1/2 oz lemon juice - 1 oz egg white - 1 oz lemon juice - 1 oz creme de cacao (white) - 1 oz lemon juice - 1/2 oz lemon juice - 1/2 oz lemon juice - 1/2 oz lemon juice - 1 oz creme de cacao (white) - 1 o\n",
            "\n",
            "cherry cocktail - cocktail glass - 1 oz lemon juice - special ingredients: lemon twist - shake with ice and strain into chilled cocktail glass. garnish with a lemon twist.\n",
            "\n",
            "cherry cocktail - cocktail glass - 1 1/2 oz vodka - 1/2 oz lemon juice - 1 oz lemon juice - 1/2 oz lemon juice - special ingredients: lemon twist - shake with ice and strain into cocktail glass.\n",
            "\n",
            "####################\n",
            "Temperature: 0.5\n",
            "####################\n",
            "rock cocktail - cocktail glass - 1 oz lemon juice - 1/2 oz lemon juice - 1 oz anisette - 1/2 oz lemon juice - 1/2 oz simple syrup - 2 oz orange bitters - special ingredients: orange slice - shake with ice and strain into chilled cocktail glass.\n",
            "\n",
            "harvado cocktail - cocktail glass - 1 oz lemon juice - 1/2 oz simple syrup - 1/2 oz aperol - 1/2 oz lemon juice - 1 oz light cream - shake with ice and strain into cocktail glass.\n",
            "\n",
            "lychoco - cocktail glass - 1 1/2 oz vodka - 1/2 oz lemon juice - 1/2 oz lemon juice - special ingredients: cherry - stir with ice and strain into chilled cocktail glass.\n",
            "\n",
            "####################\n",
            "Temperature: 1.0\n",
            "####################\n",
            "swotel cocktail - cocktail glass - 2 oz vodka - 1 oz maple syrup - lemon juice, and syrup in a club soda. top with ginger ale. shake. stir.\n",
            "\n",
            "sour sunriesa - cocktail glass - 1 1/2 oz irish whiskey - 1/2 oz triple sec - 1/2 oz anis - special ingredients: lemon twist - shake with ice and strain into chilled cocktail glass. garnish with a cherry.\n",
            "\n",
            "hole-in- cocktail glass - 1 1/2 oz vodka - 1 oz hot shot tropical fruit liqueur - 1/2 oz simple syrup - shake with cracked ice and strain into chilled cocktail glass.\n",
            "\n",
            "Epoch 7/10\n",
            "1706/1706 [==============================] - 238s 140ms/step - loss: 0.3141\n",
            "####################\n",
            "Temperature: 0.2\n",
            "####################\n",
            "santan - cocktail glass - 1 1/2 oz blanco tequila - 1/2 oz lime juice - 1 oz powdered sugar - 1 oz powdered sugar - 2 oz gin - 1 oz light rum - 1/2 oz lime juice - 1 oz simple syrup - special ingredients: lime slice - shake with ice and strain into chilled cocktail glass. garnish with a lime slice\n",
            "\n",
            "santer cocktail - cocktail glass - 1 1/2 oz vodka - 1 oz lime juice - 1/2 oz simple syrup - 1 oz grenadine - shake with ice and strain into chilled cocktail glass. garnish with a lime slice.\n",
            "\n",
            "grapefruit cocktail - cocktail glass - 1 1/2 oz vodka - 1 oz lime juice - 1 oz lime juice - 1 oz lime juice - 1/2 oz simple syrup - 1 oz light cream - shake with ice and strain into cocktail glass.\n",
            "\n",
            "####################\n",
            "Temperature: 0.5\n",
            "####################\n",
            "golden freeze - highball glass - 2 oz light rum - 1 oz lemon juice - 1/2 oz simple syrup - 1 oz grenadine - special ingredients: lime slice - shake with ice and strain into cocktail glass.\n",
            "\n",
            "canadian cocktail - cocktail glass - 1 1/2 oz vodka - 1 oz amaretto - 1 oz angostura bitters - special ingredients: lime slice - shake with ice and strain into cocktail glass. garnish with a lime slice.\n",
            "\n",
            "the cubelle - hurricane glass - 2 oz vodka - 1 oz cranberry juice - 1 oz lemon juice - 1 oz powdered sugar - 1 oz gin - special ingredients: lime slice - shake with ice and strain into old-fashioned glass over ice cubes. fill with carbonated water and stir. garnish with a lime slice.\n",
            "\n",
            "####################\n",
            "Temperature: 1.0\n",
            "####################\n",
            "the dix  - cocktail glass - 1 1/2 oz vodka - 2 oz lemon juice - 1/2 oz elderflower liqueur - 3/4 oz sweet vermouth - 1/2 oz lemon juice - 1 oz orange juice - special ingredients: lime twist - shake with ice and strain into cocktail glass. top with ice. shake rum, mint sprig, and then stir. squeeze\n",
            "\n",
            "sauthylom cocktail - cocktail glass - 1/2 oz cherry-flavored brandy - 1/4 oz triple sec - 1 oz lime juice and grenadine - special ingredients: lemon slice - rim chilled cocktail glass to coat isco, of grapefruit juice into ice-filled highball glass.\n",
            "\n",
            "geoore whild cocktail - cocktail glass - 2 oz orange juice - shake with ice and strain into chilled cocktail glass. garnish with seasonal fruit.\n",
            "\n",
            "Epoch 8/10\n",
            "1706/1706 [==============================] - 236s 138ms/step - loss: 0.2884\n",
            "####################\n",
            "Temperature: 0.2\n",
            "####################\n",
            "carroll cocktail - cocktail glass - 1 oz egg white - 1 oz light rum - 1/2 oz sweet vermouth - 1/2 oz lime juice - 1/2 oz simple syrup - special ingredients: lemon twist - stir with ice and strain into cocktail glass.\n",
            "\n",
            "cale cocktail - cocktail glass - 1 oz light rum - 1/2 oz lemon juice - special ingredients: lemon twist - shake with ice and strain into cocktail glass.\n",
            "\n",
            "canadian cocktail - cocktail glass - 1 oz light rum - 1/2 oz lemon juice - 1/2 oz powdered sugar - 1 oz egg white - 1 oz lemon juice - 1/2 oz simple syrup - 1 oz grenadine - shake with ice and strain into cocktail glass.\n",
            "\n",
            "####################\n",
            "Temperature: 0.5\n",
            "####################\n",
            "bachel button - cocktail glass - 1 1/2 oz vodka - 1/2 oz lemon juice - 3/4 oz simple syrup - special ingredients: lemon twist - shake with ice and strain into cocktail glass.\n",
            "\n",
            "champagne - cocktail glass - 1 oz powdered sugar - 1 oz powdered sugar - 1 oz powdered sugar - 1/2 oz lemon juice - 1/4 oz simple syrup - 1/2 oz lemon juice - 1/2 oz peach schnapps - 1/4 oz grenadine - shake with ice and strain into cocktail glass.\n",
            "\n",
            "onion cocktail - cocktail glass - 1 oz egg white - 1 oz egg yolk - 1 oz grenadine - shake with ice and strain into cocktail glass.\n",
            "\n",
            "####################\n",
            "Temperature: 1.0\n",
            "####################\n",
            "hutel - cocktail glass - 2 oz bourbon whiskey - special ingredients: olive - stir with ice and strain into chilled cocktail glass. garnish with an orange slice and a grapefruit twist in flars. garnish with a lime slice.\n",
            "\n",
            "havecar black cocktail - cocktail glass - 1 1/2 oz cachaca - 1 oz angostura bitters - special ingredients: egg yolk - put dubonnet in mixing glass. add vodka, dip ingougharand ice in this ingredients bovila driona cocktail glass - 1 oz each light rum - special ingredients: lime slice - shake with \n",
            "\n",
            "bourbon collins - collins glass - 1 oz vodka -  soda water  - special ingredients: orange twist - shake with ice and strain into cocktail glass.\n",
            "\n",
            "Epoch 9/10\n",
            "1706/1706 [==============================] - 237s 139ms/step - loss: 0.2627\n",
            "####################\n",
            "Temperature: 0.2\n",
            "####################\n",
            "bravo - old-fashioned glass - 1 1/2 oz applejack - 1/2 oz simple syrup - 1 oz lime juice - 1/2 oz simple syrup - 1 oz grenadine - special ingredients: lemon twist - stir with ice and strain into cocktail glass.\n",
            "\n",
            "saratoga cocktail - cocktail glass - 1 oz egg white - 1 oz lemon juice - 1/2 oz simple syrup - special ingredients: lemon twist - stir with ice and strain into cocktail glass.\n",
            "\n",
            "royal cocktail - cocktail glass - 1 oz egg white - 1 oz lemon juice - 1 oz powdered sugar - 1 oz egg white - 1 oz port - 1 oz green creme de menthe - 1 oz lime juice - 1 oz powdered sugar - 1 oz powdered sugar - 1 oz egg white - 1 oz angostura bitters - special ingredients: lemon twist - stir with\n",
            "\n",
            "####################\n",
            "Temperature: 0.5\n",
            "####################\n",
            "prevent cocktail - cocktail glass - 1 1/2 oz brandy - 1/2 oz lime juice - 1/2 oz lime juice - 1/4 oz simple syrup - 1/2 oz simple syrup - special ingredients: orange slice - shake with ice and strain into cocktail glass.\n",
            "\n",
            "tequila margarita - cocktail glass - 1 oz peach schnapps - 1 oz pineapple juice - shake with ice and strain into chilled cocktail glass. garnish with a lemon twist.\n",
            "\n",
            "creole cocktail - cocktail glass - 1 oz whole egg - 1 oz egg white - shake with ice and strain into cocktail glass.\n",
            "\n",
            "####################\n",
            "Temperature: 1.0\n",
            "####################\n",
            "bermuda de-tone - collins glass - 1 oz blended scotch whiskey - 1/2 oz triple sec - 1/2 oz lime juice - 1 oz creme kelk - 1 oz worcestershire sauce - 1 1/2 oz gin - special ingredients: lemon twist - shake with ice and strain into cocktail glass. garnish with a cherry.\n",
            "\n",
            "jamaica pink or paradise - cocktail glass - 1 oz brandy - 1 oz hot shot tropical fruit\n",
            "\n",
            "tequila old-fashioned - old-fashioned glass - 1/2 oz kummel - 1/4 oz lemon juice - 2 oz port - 1 oz sweet cream - 1/2 oz triple sec - 1 oz egg white - combine ingredients and a large bitters and cherry in mixing glass. add remaining into chilled champagne and top with nutmeg.\n",
            "\n",
            "Epoch 10/10\n",
            "1706/1706 [==============================] - 237s 139ms/step - loss: 0.2395\n",
            "####################\n",
            "Temperature: 0.2\n",
            "####################\n",
            "champagne - cocktail glass - 1 1/2 oz vodka - 1/2 oz lemon juice - 1/2 oz simple syrup - special ingredients: lemon twist - stir with ice and strain into chilled cocktail glass.\n",
            "\n",
            "bourbon and water - old-fashioned glass - 1 1/2 oz vodka - 1/2 oz lime juice - 1/2 oz simple syrup - special ingredients: lemon twist - stir with ice and strain into chilled cocktail glass.\n",
            "\n",
            "saronno - cocktail glass - 1 1/2 oz blanco tequila - 1/2 oz sweet vermouth - 1/2 oz sweet vermouth - 1/2 oz lemon juice - 1/2 oz simple syrup - 1 oz angostura bitters - special ingredients: lemon twist - stir with ice and strain into chilled cocktail glass.\n",
            "\n",
            "####################\n",
            "Temperature: 0.5\n",
            "####################\n",
            "coffee cocktail - cocktail glass - 1 oz egg white - 1/2 oz anis - 1 oz maraschino liqueur - 1/2 oz powdered sugar - 1 oz grenadine - shake with ice and strain into cocktail glass.\n",
            "\n",
            "boston smile - old-fashioned glass - 1 1/2 oz light rum - 1/2 oz lemon juice - 1/2 oz simple syrup - special ingredients: lemon twist - stir with ice and strain into chilled cocktail glass.\n",
            "\n",
            "dubles cocktail - cocktail glass - 1 1/2 oz gin - 1/2 oz sweet vermouth - 1 oz vodka - 1/2 oz sweet vermouth - 1 oz light cream - shake with ice and strain into chilled cocktail glass.\n",
            "\n",
            "####################\n",
            "Temperature: 1.0\n",
            "####################\n",
            "jamaican iriet - collins glass - 2 oz hard cider - 1 oz grenadine - special ingredients: pineapple slice, cherry - shake vodka and orange juice into ice-filled highball glass. fill with chilled champagne and stir.\n",
            "\n",
            "sand-martin cocktail - cocktail glass - 1/2 oz elderflower liqueur - special ingredients: orange slice, cherry - shake first four ingredients with cracked ice and strain into chilled cocktail glass.\n",
            "\n",
            "brandy street cocktail - cocktail glass - 1/2 oz dry vermouth - 1/2 oz lemon juice - 1 oz powdered sugar - special ingredients: sweet cream - shake with ice and strain into chilled cocktail glass. garnish with an olive\n",
            "\n"
          ],
          "name": "stdout"
        }
      ]
    },
    {
      "metadata": {
        "id": "M8-LcEP-BsT0",
        "colab_type": "code",
        "colab": {}
      },
      "cell_type": "code",
      "source": [
        "#download model files\n",
        "files.download(\"cocktail_model_weights.hdf5\")\n",
        "files.download(\"cocktail_model_vocab.json\")\n",
        "files.download(\"cocktail_model_config.json\")"
      ],
      "execution_count": 0,
      "outputs": []
    },
    {
      "metadata": {
        "id": "y8MvH7G5BwoW",
        "colab_type": "text"
      },
      "cell_type": "markdown",
      "source": [
        "# Loading a pre-trained model for further training"
      ]
    },
    {
      "metadata": {
        "id": "k81ztGKE-mXl",
        "colab_type": "code",
        "colab": {}
      },
      "cell_type": "code",
      "source": [
        "# #name textgen model and import model files\n",
        "# textgen = textgenrnn(name=\"cocktail_model\", \n",
        "#                      weights_path=\"cocktail_model_weights.hdf5\", \n",
        "#                      vocab_path=\"cocktail_model_vocab.json\", \n",
        "#                      config_path=\"cocktail_model_config.json\")"
      ],
      "execution_count": 0,
      "outputs": []
    },
    {
      "metadata": {
        "id": "0d5oJ_CxCIPl",
        "colab_type": "code",
        "colab": {}
      },
      "cell_type": "code",
      "source": [
        "# #continue training model from text file\n",
        "# textgen.train_from_file(\"cocktails_text.txt\",\n",
        "#                         rnn_bidirectional=True,\n",
        "#                         rnn_layers = 5,\n",
        "#                         rnn_size=128,\n",
        "#                         dim_embeddings=100,\n",
        "#                         num_epochs=2)"
      ],
      "execution_count": 0,
      "outputs": []
    },
    {
      "metadata": {
        "id": "wA1My9_lDKfg",
        "colab_type": "code",
        "colab": {}
      },
      "cell_type": "code",
      "source": [
        "# #download model files\n",
        "# files.download(\"cocktail_model_weights.hdf5\")\n",
        "# files.download(\"cocktail_model_vocab.json\")\n",
        "# files.download(\"cocktail_model_config.json\")"
      ],
      "execution_count": 0,
      "outputs": []
    }
  ]
}