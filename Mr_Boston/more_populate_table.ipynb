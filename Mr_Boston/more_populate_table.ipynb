{
 "cells": [
  {
   "cell_type": "code",
   "execution_count": 1,
   "metadata": {},
   "outputs": [],
   "source": [
    "from credentials import user, password, rds_host\n",
    "import pymysql\n",
    "import pandas as pd\n",
    "from boston_functions import *\n",
    "import re\n",
    "import numpy as np\n",
    "from liquid import liquids\n",
    "from garnish import garnishes\n",
    "import random"
   ]
  },
  {
   "cell_type": "code",
   "execution_count": 2,
   "metadata": {},
   "outputs": [],
   "source": [
    "data = pd.read_csv(\"./mr-boston-all-glasses.csv\")\n",
    "\n",
    "data = data[data.loc[:, \"glass-size\"].notna()]\n",
    "# data"
   ]
  },
  {
   "cell_type": "code",
   "execution_count": 3,
   "metadata": {},
   "outputs": [],
   "source": [
    "valid_units = [\"oz\", \"tsp\", \"splash\", \"dash\"]\n",
    "\n",
    "fill_liquid = [\"ginger ale\", \"carbonated water\", \"cola\", \"water\", \"chilled champagne\", \"soda water\", \n",
    "               \"club soda\", \"ginger ale or soda water\", \"lemon-lime soda\", \"ginger beer\", \"bitter lemon soda\",\n",
    "               \"apple juice\", \"orange juice\"]\n",
    "\n",
    "invaild_ingredients = ['chopped', 'cut in half', 'cut in halves', 'cut into halves', 'flamed', 'hulled', 'long', 'skinned',\n",
    "                       'whipped', \"preferably b.a. reynold's\", 'preferably jamaican', 'preferably japanese', \n",
    "                       'preferably pedro ximenez', \"such as bittermen's elemakule\", 'such as demerara', \n",
    "                       'such as islay or skye', 'such as nasturtium']\n",
    "\n",
    "ingredient_indicies = range(3, 14)"
   ]
  },
  {
   "cell_type": "code",
   "execution_count": 4,
   "metadata": {},
   "outputs": [],
   "source": [
    "categories = list(set(data.iloc[:, 1])) + [\"AI Instant Classic\"]"
   ]
  },
  {
   "cell_type": "code",
   "execution_count": 5,
   "metadata": {},
   "outputs": [],
   "source": [
    "all_recipies, measures = get_cocktail_recipies(data, ingredient_indicies, liquids, garnishes, invaild_ingredients, valid_units)"
   ]
  },
  {
   "cell_type": "code",
   "execution_count": 6,
   "metadata": {},
   "outputs": [],
   "source": [
    "# measures"
   ]
  },
  {
   "cell_type": "markdown",
   "metadata": {},
   "source": []
  },
  {
   "cell_type": "code",
   "execution_count": 7,
   "metadata": {},
   "outputs": [
    {
     "data": {
      "text/plain": [
       "{'name': 'Fort Lauderdale',\n",
       " 'category': 'Cocktail Classics',\n",
       " 'instructions': 'Shake with ice and strain into old-fashioned glass over ice cubes. Add a slice of orange.',\n",
       " 'glass': 'Old-Fashioned Glass',\n",
       " 'glass_size': 6,\n",
       " 'recipe': [['1 1/2 oz', 'batavia arrack or light rum'],\n",
       "  ['1/2 oz', 'sweet vermouth'],\n",
       "  ['1/4 oz', 'fresh orange juice'],\n",
       "  ['1/4 oz', 'fresh lime juice']]}"
      ]
     },
     "execution_count": 7,
     "metadata": {},
     "output_type": "execute_result"
    }
   ],
   "source": [
    "all_recipies[1]"
   ]
  },
  {
   "cell_type": "code",
   "execution_count": 8,
   "metadata": {},
   "outputs": [],
   "source": [
    "#set empty lists for cocktail names, glass names, and glass sizes\n",
    "names = []\n",
    "glasses = []\n",
    "glass_sizes = []\n",
    "\n",
    "# locate cocktail names, glass names, and glass sizes\n",
    "for i in range(len(all_recipies)):\n",
    "    names.append(all_recipies[i][\"name\"])\n",
    "    glasses.append(all_recipies[i][\"glass\"])\n",
    "    glass_sizes.append(all_recipies[i][\"glass_size\"])\n",
    "#create df\n",
    "glass_df = pd.DataFrame({\"cocktail_name\": names, \"glass_name\": glasses, \"glass_size\": glass_sizes})\n",
    "\n",
    "# glass_df.head()"
   ]
  },
  {
   "cell_type": "code",
   "execution_count": 9,
   "metadata": {},
   "outputs": [
    {
     "data": {
      "text/html": [
       "<div>\n",
       "<style scoped>\n",
       "    .dataframe tbody tr th:only-of-type {\n",
       "        vertical-align: middle;\n",
       "    }\n",
       "\n",
       "    .dataframe tbody tr th {\n",
       "        vertical-align: top;\n",
       "    }\n",
       "\n",
       "    .dataframe thead th {\n",
       "        text-align: right;\n",
       "    }\n",
       "</style>\n",
       "<table border=\"1\" class=\"dataframe\">\n",
       "  <thead>\n",
       "    <tr style=\"text-align: right;\">\n",
       "      <th></th>\n",
       "      <th>mask</th>\n",
       "      <th>maskHeight</th>\n",
       "      <th>maskTopMargin</th>\n",
       "      <th>name</th>\n",
       "      <th>path</th>\n",
       "    </tr>\n",
       "  </thead>\n",
       "  <tbody>\n",
       "    <tr>\n",
       "      <th>0</th>\n",
       "      <td>m 43.972082,0.754995 c -0.0081,0.25817 -0.0643...</td>\n",
       "      <td>28.0</td>\n",
       "      <td>1.0</td>\n",
       "      <td>COCKTAIL_1</td>\n",
       "      <td>m 18.233415,27.465585 c -1.678156,-1.38771 -2....</td>\n",
       "    </tr>\n",
       "    <tr>\n",
       "      <th>1</th>\n",
       "      <td>M 20.289051,33.296931 C 19.290178,31.958842 18...</td>\n",
       "      <td>33.0</td>\n",
       "      <td>1.5</td>\n",
       "      <td>champagne_flute</td>\n",
       "      <td>M 20.229203,33.296931 C 19.23033,31.958842 18....</td>\n",
       "    </tr>\n",
       "    <tr>\n",
       "      <th>2</th>\n",
       "      <td>m 41.615,1.72 c 0,0 -1.500626,2.4979518 -2.263...</td>\n",
       "      <td>24.0</td>\n",
       "      <td>1.5</td>\n",
       "      <td>cocktail_sm_martini</td>\n",
       "      <td>m 18.029995,23.735654 c -0.785523,-0.535326 -1...</td>\n",
       "    </tr>\n",
       "    <tr>\n",
       "      <th>3</th>\n",
       "      <td>m 11.238,1.6429413 c 0,0 0.843577,2.9274173 0....</td>\n",
       "      <td>33.5</td>\n",
       "      <td>1.5</td>\n",
       "      <td>poco_grande</td>\n",
       "      <td>M 17.33604,34.049118 C 15.163032,33.299665 12....</td>\n",
       "    </tr>\n",
       "    <tr>\n",
       "      <th>4</th>\n",
       "      <td>m 41.544,16.418 c 0,0 -0.01131,3.428254 -0.003...</td>\n",
       "      <td>37.5</td>\n",
       "      <td>16.5</td>\n",
       "      <td>ROCK</td>\n",
       "      <td>M 4.158169,53.270076 C 3.5567763,52.526162 3.6...</td>\n",
       "    </tr>\n",
       "  </tbody>\n",
       "</table>\n",
       "</div>"
      ],
      "text/plain": [
       "                                                mask  maskHeight  \\\n",
       "0  m 43.972082,0.754995 c -0.0081,0.25817 -0.0643...        28.0   \n",
       "1  M 20.289051,33.296931 C 19.290178,31.958842 18...        33.0   \n",
       "2  m 41.615,1.72 c 0,0 -1.500626,2.4979518 -2.263...        24.0   \n",
       "3  m 11.238,1.6429413 c 0,0 0.843577,2.9274173 0....        33.5   \n",
       "4  m 41.544,16.418 c 0,0 -0.01131,3.428254 -0.003...        37.5   \n",
       "\n",
       "   maskTopMargin                 name  \\\n",
       "0            1.0           COCKTAIL_1   \n",
       "1            1.5      champagne_flute   \n",
       "2            1.5  cocktail_sm_martini   \n",
       "3            1.5          poco_grande   \n",
       "4           16.5                 ROCK   \n",
       "\n",
       "                                                path  \n",
       "0  m 18.233415,27.465585 c -1.678156,-1.38771 -2....  \n",
       "1  M 20.229203,33.296931 C 19.23033,31.958842 18....  \n",
       "2  m 18.029995,23.735654 c -0.785523,-0.535326 -1...  \n",
       "3  M 17.33604,34.049118 C 15.163032,33.299665 12....  \n",
       "4  M 4.158169,53.270076 C 3.5567763,52.526162 3.6...  "
      ]
     },
     "execution_count": 9,
     "metadata": {},
     "output_type": "execute_result"
    }
   ],
   "source": [
    "#read glass svg csv\n",
    "svg_data = pd.read_csv(\"../glasses.csv\")\n",
    "svg_data.head()"
   ]
  },
  {
   "cell_type": "code",
   "execution_count": 10,
   "metadata": {},
   "outputs": [
    {
     "data": {
      "text/plain": [
       "'m 32.418922,2.7660569 c 0,0 -0.208766,1.645656...'"
      ]
     },
     "execution_count": 10,
     "metadata": {},
     "output_type": "execute_result"
    }
   ],
   "source": [
    "# df = svg_data.loc[svg_data[\"name\"]==\"fluted_lager\", :]\n",
    "# df['mask'].to_string(index=False)"
   ]
  },
  {
   "cell_type": "code",
   "execution_count": 11,
   "metadata": {},
   "outputs": [
    {
     "data": {
      "text/html": [
       "<div>\n",
       "<style scoped>\n",
       "    .dataframe tbody tr th:only-of-type {\n",
       "        vertical-align: middle;\n",
       "    }\n",
       "\n",
       "    .dataframe tbody tr th {\n",
       "        vertical-align: top;\n",
       "    }\n",
       "\n",
       "    .dataframe thead th {\n",
       "        text-align: right;\n",
       "    }\n",
       "</style>\n",
       "<table border=\"1\" class=\"dataframe\">\n",
       "  <thead>\n",
       "    <tr style=\"text-align: right;\">\n",
       "      <th></th>\n",
       "      <th>cocktail_name</th>\n",
       "      <th>glass_name</th>\n",
       "      <th>glass_size</th>\n",
       "      <th>mask</th>\n",
       "      <th>path</th>\n",
       "      <th>mask_height</th>\n",
       "      <th>mask_top_margin</th>\n",
       "    </tr>\n",
       "  </thead>\n",
       "  <tbody>\n",
       "    <tr>\n",
       "      <th>0</th>\n",
       "      <td>Gauguin</td>\n",
       "      <td>Old-Fashioned Glass</td>\n",
       "      <td>6</td>\n",
       "      <td>m 4.5662649,9.3496885 c 0,0 0.1148621,2.874336...</td>\n",
       "      <td>M 10.435878,44.646245 C 8.9031392,44.203762 7....</td>\n",
       "      <td>36.5</td>\n",
       "      <td>9.3</td>\n",
       "    </tr>\n",
       "    <tr>\n",
       "      <th>1</th>\n",
       "      <td>Fort Lauderdale</td>\n",
       "      <td>Old-Fashioned Glass</td>\n",
       "      <td>6</td>\n",
       "      <td>m 4.5662649,9.3496885 c 0,0 0.1148621,2.874336...</td>\n",
       "      <td>M 10.435878,44.646245 C 8.9031392,44.203762 7....</td>\n",
       "      <td>36.5</td>\n",
       "      <td>9.3</td>\n",
       "    </tr>\n",
       "    <tr>\n",
       "      <th>2</th>\n",
       "      <td>Apple Pie</td>\n",
       "      <td>Old-Fashioned Glass</td>\n",
       "      <td>6</td>\n",
       "      <td>m 4.5662649,9.3496885 c 0,0 0.1148621,2.874336...</td>\n",
       "      <td>M 10.435878,44.646245 C 8.9031392,44.203762 7....</td>\n",
       "      <td>36.5</td>\n",
       "      <td>9.3</td>\n",
       "    </tr>\n",
       "    <tr>\n",
       "      <th>3</th>\n",
       "      <td>Cuban Cocktail No. 1</td>\n",
       "      <td>Cocktail Glass</td>\n",
       "      <td>6</td>\n",
       "      <td>m 22.5,28.149217 c 1.362184,0 2.384436,-0.0014...</td>\n",
       "      <td>m 22.500001,28.149217 c -1.362184,0 -2.384436,...</td>\n",
       "      <td>26.3</td>\n",
       "      <td>2.0</td>\n",
       "    </tr>\n",
       "    <tr>\n",
       "      <th>4</th>\n",
       "      <td>Cool Carlos</td>\n",
       "      <td>Collins Glass</td>\n",
       "      <td>14</td>\n",
       "      <td>m 32.125689,1.1543601 c -0.03228,0.5809 -0.083...</td>\n",
       "      <td>M 14.996761,56.88241 C 14.677282,56.01524 14.5...</td>\n",
       "      <td>56.5</td>\n",
       "      <td>1.0</td>\n",
       "    </tr>\n",
       "  </tbody>\n",
       "</table>\n",
       "</div>"
      ],
      "text/plain": [
       "          cocktail_name           glass_name  glass_size  \\\n",
       "0               Gauguin  Old-Fashioned Glass           6   \n",
       "1       Fort Lauderdale  Old-Fashioned Glass           6   \n",
       "2             Apple Pie  Old-Fashioned Glass           6   \n",
       "3  Cuban Cocktail No. 1       Cocktail Glass           6   \n",
       "4           Cool Carlos        Collins Glass          14   \n",
       "\n",
       "                                                mask  \\\n",
       "0  m 4.5662649,9.3496885 c 0,0 0.1148621,2.874336...   \n",
       "1  m 4.5662649,9.3496885 c 0,0 0.1148621,2.874336...   \n",
       "2  m 4.5662649,9.3496885 c 0,0 0.1148621,2.874336...   \n",
       "3  m 22.5,28.149217 c 1.362184,0 2.384436,-0.0014...   \n",
       "4  m 32.125689,1.1543601 c -0.03228,0.5809 -0.083...   \n",
       "\n",
       "                                                path mask_height  \\\n",
       "0  M 10.435878,44.646245 C 8.9031392,44.203762 7....        36.5   \n",
       "1  M 10.435878,44.646245 C 8.9031392,44.203762 7....        36.5   \n",
       "2  M 10.435878,44.646245 C 8.9031392,44.203762 7....        36.5   \n",
       "3  m 22.500001,28.149217 c -1.362184,0 -2.384436,...        26.3   \n",
       "4  M 14.996761,56.88241 C 14.677282,56.01524 14.5...        56.5   \n",
       "\n",
       "  mask_top_margin  \n",
       "0             9.3  \n",
       "1             9.3  \n",
       "2             9.3  \n",
       "3             2.0  \n",
       "4             1.0  "
      ]
     },
     "execution_count": 11,
     "metadata": {},
     "output_type": "execute_result"
    }
   ],
   "source": [
    "#set empty lists for svg data\n",
    "masks = []\n",
    "paths = []\n",
    "mask_heights = []\n",
    "mask_top_margins = []\n",
    "\n",
    "#match mr. boston  db glass names with svg glass names\n",
    "for i in range(len(glass_df)):\n",
    "    glass_name = glass_df.iloc[i, 1]\n",
    "    if glass_name == \"Beer Mug\":\n",
    "        df = svg_data.loc[svg_data[\"name\"]==\"fluted_lager\", :]\n",
    "        masks.append(df[\"mask\"].to_string(index=False))\n",
    "        paths.append(df[\"path\"].to_string(index=False))\n",
    "        mask_heights.append(df[\"maskHeight\"].to_string(index=False))\n",
    "        mask_top_margins.append(df[\"maskTopMargin\"].to_string(index=False))\n",
    "    elif (glass_name == \"Brandy Snifter\") or (glass_name == \"Red-Wine Glass\") or (glass_name == \"White-Wine Glass\"):\n",
    "        df = svg_data.loc[svg_data[\"name\"]==\"poco_grande\", :]\n",
    "        masks.append(df[\"mask\"].to_string(index=False))\n",
    "        paths.append(df[\"path\"].to_string(index=False))\n",
    "        mask_heights.append(df[\"maskHeight\"].to_string(index=False))\n",
    "        mask_top_margins.append(df[\"maskTopMargin\"].to_string(index=False))\n",
    "    elif glass_name == \"Champagne Flute\":\n",
    "        df = svg_data.loc[svg_data[\"name\"]==\"champagne_extra_fluted\", :]\n",
    "        masks.append(df[\"mask\"].to_string(index=False))\n",
    "        paths.append(df[\"path\"].to_string(index=False))\n",
    "        mask_heights.append(df[\"maskHeight\"].to_string(index=False))\n",
    "        mask_top_margins.append(df[\"maskTopMargin\"].to_string(index=False))\n",
    "    elif glass_name == \"Cocktail Glass\":\n",
    "        df = svg_data.loc[svg_data[\"name\"]==\"cocktail_lg\", :]\n",
    "        masks.append(df[\"mask\"].to_string(index=False))\n",
    "        paths.append(df[\"path\"].to_string(index=False))\n",
    "        mask_heights.append(df[\"maskHeight\"].to_string(index=False))\n",
    "        mask_top_margins.append(df[\"maskTopMargin\"].to_string(index=False))\n",
    "    elif glass_name == \"Collins Glass\":\n",
    "        df = svg_data.loc[svg_data[\"name\"]==\"collins\", :]\n",
    "        masks.append(df[\"mask\"].to_string(index=False))\n",
    "        paths.append(df[\"path\"].to_string(index=False))\n",
    "        mask_heights.append(df[\"maskHeight\"].to_string(index=False))\n",
    "        mask_top_margins.append(df[\"maskTopMargin\"].to_string(index=False))\n",
    "    elif (glass_name == \"Cordial or Pony Glass\") or (glass_name == \"Pousse-Cafe Glass\") or (glass_name == \"Sherry Glass\"):\n",
    "        df = svg_data.loc[svg_data[\"name\"]==\"pousse_cafe\", :]\n",
    "        masks.append(df[\"mask\"].to_string(index=False))\n",
    "        paths.append(df[\"path\"].to_string(index=False))\n",
    "        mask_heights.append(df[\"maskHeight\"].to_string(index=False))\n",
    "        mask_top_margins.append(df[\"maskTopMargin\"].to_string(index=False))\n",
    "    elif glass_name == \"Highball Glass\":\n",
    "        df = svg_data.loc[svg_data[\"name\"]==\"highball\", :]\n",
    "        masks.append(df[\"mask\"].to_string(index=False))\n",
    "        paths.append(df[\"path\"].to_string(index=False))\n",
    "        mask_heights.append(df[\"maskHeight\"].to_string(index=False))\n",
    "        mask_top_margins.append(df[\"maskTopMargin\"].to_string(index=False))\n",
    "    elif glass_name == \"Hurricane Glass\":\n",
    "        df = svg_data.loc[svg_data[\"name\"]==\"hurricane\", :]\n",
    "        masks.append(df[\"mask\"].to_string(index=False))\n",
    "        paths.append(df[\"path\"].to_string(index=False))\n",
    "        mask_heights.append(df[\"maskHeight\"].to_string(index=False))\n",
    "        mask_top_margins.append(df[\"maskTopMargin\"].to_string(index=False))\n",
    "    elif glass_name == \"Irish Coffee Glass\":\n",
    "        df = svg_data.loc[svg_data[\"name\"]==\"irish_coffee\", :]\n",
    "        masks.append(df[\"mask\"].to_string(index=False))\n",
    "        paths.append(df[\"path\"].to_string(index=False))\n",
    "        mask_heights.append(df[\"maskHeight\"].to_string(index=False))\n",
    "        mask_top_margins.append(df[\"maskTopMargin\"].to_string(index=False))\n",
    "    elif glass_name == \"Old-Fashioned Glass\":\n",
    "        df = svg_data.loc[svg_data[\"name\"]==\"old_fashioned\", :]\n",
    "        masks.append(df[\"mask\"].to_string(index=False))\n",
    "        paths.append(df[\"path\"].to_string(index=False))\n",
    "        mask_heights.append(df[\"maskHeight\"].to_string(index=False))\n",
    "        mask_top_margins.append(df[\"maskTopMargin\"].to_string(index=False))\n",
    "    elif (glass_name == \"Punch Cup\") or (glass_name == \"Shot Glass\"):\n",
    "        df = svg_data.loc[svg_data[\"name\"]==\"rocks\", :]\n",
    "        masks.append(df[\"mask\"].to_string(index=False))\n",
    "        paths.append(df[\"path\"].to_string(index=False))\n",
    "        mask_heights.append(df[\"maskHeight\"].to_string(index=False))\n",
    "        mask_top_margins.append(df[\"maskTopMargin\"].to_string(index=False))\n",
    "    elif glass_name == \"Sour Glass\":\n",
    "        df = svg_data.loc[svg_data[\"name\"]==\"champagne_flute\", :]\n",
    "        masks.append(df[\"mask\"].to_string(index=False))\n",
    "        paths.append(df[\"path\"].to_string(index=False))\n",
    "        mask_heights.append(df[\"maskHeight\"].to_string(index=False))\n",
    "        mask_top_margins.append(df[\"maskTopMargin\"].to_string(index=False))\n",
    "# print(len(masks), len(paths), len(mask_heights), len(mask_top_margins))\n",
    "\n",
    "#add svg info to glass df\n",
    "glass_df[\"mask\"] = masks\n",
    "glass_df[\"path\"] = paths\n",
    "glass_df[\"mask_height\"] = mask_heights\n",
    "glass_df[\"mask_top_margin\"] = mask_top_margins\n",
    "glass_df.head()"
   ]
  },
  {
   "cell_type": "code",
   "execution_count": 12,
   "metadata": {},
   "outputs": [],
   "source": [
    "def populate_glass_table(glass_df):\n",
    "    conn = pymysql.connect(rds_host, user=user, password=password, connect_timeout=50)\n",
    "    cursor = conn.cursor()\n",
    "    cursor.execute('USE cocktailproject')\n",
    "    for row in range(len(glass_df)):\n",
    "        glass_name = glass_df.iloc[row, 1]\n",
    "        glass_size = glass_df.iloc[row, 2]\n",
    "        mask = glass_df.iloc[row, 3]\n",
    "        path = glass_df.iloc[row, 4]\n",
    "        mask_height = glass_df.iloc[row, 5]\n",
    "        mask_top_margin = glass_df.iloc[row, 6]\n",
    "        print(glass_name, glass_size)\n",
    "        sql = f\"INSERT INTO Glasses (Glass_Name, Glass_Size, Mask, Path, Mask_Height, Mask_Top_Margin) VALUES ('{glass_name}', '{glass_size}', '{mask}', '{path}', '{mask_height}', '{mask_top_margin}');\"\n",
    "        cursor.execute(sql)\n",
    "    conn.commit()\n",
    "    cursor.execute(\"SELECT * FROM Glasses\")\n",
    "    data = cursor.fetchall()\n",
    "    print(data)\n",
    "    conn.close()\n",
    "# populate_glass_table(glass_df)"
   ]
  },
  {
   "cell_type": "code",
   "execution_count": 13,
   "metadata": {},
   "outputs": [],
   "source": [
    "cocktail_table_sql = \"CREATE TABLE Cocktails ( \\\n",
    "                        Cocktail_ID INT NOT NULL PRIMARY KEY AUTO_INCREMENT \\\n",
    "                        , Cocktail_Name VARCHAR(80) \\\n",
    "                        , Glass_ID INT \\\n",
    "                        , Category_ID INT \\\n",
    "                        , FOREIGN KEY (Glass_ID) REFERENCES Glasses(Glass_ID) \\\n",
    "                        , FOREIGN KEY (Category_ID) REFERENCES Categories(Category_ID) \\\n",
    "                        );\""
   ]
  },
  {
   "cell_type": "code",
   "execution_count": null,
   "metadata": {},
   "outputs": [],
   "source": [
    "#set empty lists for category and glass ids\n",
    "category_ids = []\n",
    "glass_ids = []\n",
    "\n",
    "#connect to sql\n",
    "conn = pymysql.connect(rds_host, user=user, password=password, connect_timeout=50)\n",
    "#create cursor object\n",
    "cursor = conn.cursor()\n",
    "#use cocktail db\n",
    "cursor.execute('USE cocktailproject')\n",
    "\n",
    "#for each recipe,\n",
    "for i in range(len(all_recipies)):\n",
    "    #find cocktail category\n",
    "    category = all_recipies[i][\"category\"]\n",
    "    \n",
    "    #select category id and append to category id list\n",
    "    sql = f\"SELECT Category_ID FROM Categories WHERE Category_Name='{category}'\"\n",
    "    cursor.execute(sql)\n",
    "    data = cursor.fetchall()\n",
    "    category_ids.append(data[0][0])\n",
    "    \n",
    "    #select glass id and append to glass id list\n",
    "    sql = f\"SELECT Glass_ID FROM Glasses WHERE Glass_Name='{glasses[i]}'\"\n",
    "    cursor.execute(sql)\n",
    "    data = cursor.fetchall()\n",
    "    glass_ids.append(data[0][0])\n",
    "\n",
    "#close sql connection\n",
    "conn.close()\n",
    "# print(category_ids[0], glass_ids[0])"
   ]
  },
  {
   "cell_type": "code",
   "execution_count": null,
   "metadata": {},
   "outputs": [],
   "source": [
    "#set empty lists for instructions\n",
    "instructions_list = []\n",
    "instr_lengths = []\n",
    "#for all recipes,\n",
    "for i in range(len(all_recipies)):\n",
    "    #find instructions and append to instructions list\n",
    "    instructions = all_recipies[i][\"instructions\"]\n",
    "    instructions_list.append(instructions)\n",
    "    instr_lengths.append(len(instructions))"
   ]
  },
  {
   "cell_type": "code",
   "execution_count": null,
   "metadata": {},
   "outputs": [],
   "source": [
    "#create cocktail df\n",
    "cocktail_df = pd.DataFrame({\"cocktail_name\": names, \"glass_id\": glass_ids, \"category_ids\": category_ids, \"instructions\": instructions_list})\n",
    "cocktail_df.head()"
   ]
  },
  {
   "cell_type": "code",
   "execution_count": null,
   "metadata": {},
   "outputs": [],
   "source": [
    "def populate_cocktail_table(cocktail_df):\n",
    "    conn = pymysql.connect(rds_host, user=user, password=password, connect_timeout=50)\n",
    "    cursor = conn.cursor()\n",
    "    cursor.execute('USE cocktailproject')\n",
    "    for row in range(len(cocktail_df)):\n",
    "        cocktail_name = cocktail_df.iloc[row, 0]\n",
    "        glass_id = cocktail_df.iloc[row, 1]\n",
    "        category_id = cocktail_df.iloc[row, 2]\n",
    "        instructions = cocktail_df.iloc[row, 3]\n",
    "        print(cocktail_name)\n",
    "        sql = f\"INSERT INTO Cocktails (Cocktail_Name, Glass_ID, Category_ID, Instructions) VALUES ('{cocktail_name}', '{glass_id}', '{category_id}', '{instructions}');\"\n",
    "        cursor.execute(sql)\n",
    "    conn.commit()\n",
    "    cursor.execute(\"SELECT * FROM Cocktails\")\n",
    "    data = cursor.fetchall()\n",
    "    print(data)\n",
    "    conn.close()\n",
    "# populate_cocktail_table(cocktail_df)"
   ]
  },
  {
   "cell_type": "code",
   "execution_count": null,
   "metadata": {},
   "outputs": [],
   "source": [
    "liquid_instructions_table_sql = \"CREATE TABLE Liquid_Instuctions ( \\\n",
    "                                Liquid_Instruction_ID INT NOT NULL PRIMARY KEY AUTO_INCREMENT \\\n",
    "                                , Cocktail_ID INT \\\n",
    "                                , Liquid_ID INT \\\n",
    "                                , Measure VARCHAR(24) \\\n",
    "                                , FOREIGN KEY (Cocktail_ID) REFERENCES Cocktails(Cocktail_ID) \\\n",
    "                                , FOREIGN KEY (Liquid_ID) REFERENCES Liquids(Liquid_ID) \\\n",
    "                                );\""
   ]
  },
  {
   "cell_type": "code",
   "execution_count": 45,
   "metadata": {},
   "outputs": [],
   "source": [
    "\n"
   ]
  },
  {
   "cell_type": "code",
   "execution_count": null,
   "metadata": {},
   "outputs": [],
   "source": [
    "def populate_liquid_instructions_table(liquid_instructions_df):\n",
    "    conn = pymysql.connect(rds_host, user=user, password=password, connect_timeout=50)\n",
    "    cursor = conn.cursor()\n",
    "    cursor.execute('USE cocktailproject')\n",
    "    for row in range(len(liquid_instructions_df)):\n",
    "        cocktail_id = liquid_instructions_df.iloc[row, 0]\n",
    "        liquid_id = liquid_instructions_df.iloc[row, 1]\n",
    "        measure = liquid_instructions_df.iloc[row, 2]\n",
    "        print(liquid_id, measure)\n",
    "        sql = f\"INSERT INTO Liquid_Instuctions (Cocktail_ID, Liquid_ID, Measure) VALUES ('{cocktail_id}', '{liquid_id}', '{measure}');\"\n",
    "        cursor.execute(sql)\n",
    "    conn.commit()\n",
    "    cursor.execute(\"SELECT * FROM Liquid_Instuctions\")\n",
    "    data = cursor.fetchall()\n",
    "    print(data)\n",
    "    conn.close()"
   ]
  },
  {
   "cell_type": "code",
   "execution_count": null,
   "metadata": {},
   "outputs": [],
   "source": [
    "garnish_instructions_table_sql = \"CREATE TABLE Garnish_Instuctions ( \\\n",
    "                                    Garnish_Instruction_ID INT NOT NULL PRIMARY KEY AUTO_INCREMENT \\\n",
    "                                    , Cocktail_ID INT \\\n",
    "                                    , Garnish_ID INT \\\n",
    "                                    , FOREIGN KEY (Cocktail_ID) REFERENCES Cocktails(Cocktail_ID) \\\n",
    "                                    , FOREIGN KEY (Garnish_ID) REFERENCES Garnishes(Garnish_ID) \\\n",
    "                                    );\""
   ]
  },
  {
   "cell_type": "code",
   "execution_count": null,
   "metadata": {},
   "outputs": [],
   "source": [
    "def populate_garnish_instructions_table(garnish_instructions_df):\n",
    "    conn = pymysql.connect(rds_host, user=user, password=password, connect_timeout=50)\n",
    "    cursor = conn.cursor()\n",
    "    cursor.execute('USE cocktailproject')\n",
    "    for row in range(len(garnish_instructions_df)):\n",
    "        cocktail_id = garnish_instructions_df.iloc[row, 0]\n",
    "        garnish_id = garnish_instructions_df.iloc[row, 1]\n",
    "        print(garnish_id)\n",
    "        sql = f\"INSERT INTO Garnish_Instuctions (Cocktail_ID, Liquid_ID) VALUES ('{cocktail_id}', '{liquid_id}');\"\n",
    "        cursor.execute(sql)\n",
    "    conn.commit()\n",
    "    cursor.execute(\"SELECT * FROM Garnish_Instuctions\")\n",
    "    data = cursor.fetchall()\n",
    "    print(data)\n",
    "    conn.close()"
   ]
  },
  {
   "cell_type": "code",
   "execution_count": null,
   "metadata": {},
   "outputs": [],
   "source": [
    "rating_table_sql = \"CREATE TABLE Ratings ( \\\n",
    "                Rating_ID INT NOT NULL PRIMARY KEY AUTO_INCREMENT \\\n",
    "                , Rating INT \\\n",
    "                , Cocktail_ID INT\\\n",
    "                , FOREIGN KEY (Cocktail_ID) REFERENCES Cocktails(Cocktail_ID) \\\n",
    "                );\""
   ]
  },
  {
   "cell_type": "code",
   "execution_count": 20,
   "metadata": {},
   "outputs": [
    {
     "data": {
      "text/plain": [
       "976"
      ]
     },
     "execution_count": 20,
     "metadata": {},
     "output_type": "execute_result"
    }
   ],
   "source": [
    "#connect to sql, create cursor object, and use cocktail db\n",
    "conn = pymysql.connect(rds_host, user=user, password=password, connect_timeout=50)\n",
    "cursor = conn.cursor()\n",
    "cursor.execute('USE cocktailproject')\n",
    "\n",
    "sql = \"SELECT Cocktail_ID FROM Cocktails\"\n",
    "cursor.execute(sql)\n",
    "data = cursor.fetchall()\n",
    "cocktail_ids_data = data\n",
    "cocktail_ids = []\n",
    "for i in range(len(cocktail_ids_data)):\n",
    "    \n",
    "    cocktail_ids.append(cocktail_ids_data[i][0])\n",
    "\n",
    "\n",
    "conn.close()\n",
    "len(cocktail_ids)"
   ]
  },
  {
   "cell_type": "code",
   "execution_count": 24,
   "metadata": {},
   "outputs": [],
   "source": [
    "cocktail_id_list = []\n",
    "ratings_list = []\n",
    "for _id in cocktail_ids:\n",
    "    for i in range(5):\n",
    "        cocktail_id_list.append(_id)\n",
    "        ratings_list.append(random.randint(1,5))\n",
    "\n",
    "rating_df = pd.DataFrame({\"rating\": ratings_list, \"cocktail_id\": cocktail_id_list})"
   ]
  },
  {
   "cell_type": "code",
   "execution_count": null,
   "metadata": {},
   "outputs": [],
   "source": [
    "def populate_rating_table(rating_df):\n",
    "    conn = pymysql.connect(rds_host, user=user, password=password, connect_timeout=50)\n",
    "    cursor = conn.cursor()\n",
    "    cursor.execute('USE cocktailproject')\n",
    "    for row in range(len(rating_df)):\n",
    "        rating = rating_df.iloc[row, 0]\n",
    "        cocktail_id = rating_df.iloc[row, 1]\n",
    "        print(rating)\n",
    "        sql = f\"INSERT INTO Ratings (Rating, Cocktail_ID) VALUES ('{rating}','{cocktail_id}');\"\n",
    "        cursor.execute(sql)\n",
    "    conn.commit()\n",
    "    cursor.execute(\"SELECT * FROM Ratings\")\n",
    "    data = cursor.fetchall()\n",
    "    print(data)\n",
    "    conn.close()\n",
    "# populate_rating_table(rating_df)"
   ]
  },
  {
   "cell_type": "code",
   "execution_count": null,
   "metadata": {},
   "outputs": [],
   "source": []
  },
  {
   "cell_type": "code",
   "execution_count": null,
   "metadata": {},
   "outputs": [],
   "source": []
  }
 ],
 "metadata": {
  "kernelspec": {
   "display_name": "Python 3",
   "language": "python",
   "name": "python3"
  },
  "language_info": {
   "codemirror_mode": {
    "name": "ipython",
    "version": 3
   },
   "file_extension": ".py",
   "mimetype": "text/x-python",
   "name": "python",
   "nbconvert_exporter": "python",
   "pygments_lexer": "ipython3",
   "version": "3.6.5"
  }
 },
 "nbformat": 4,
 "nbformat_minor": 2
}
