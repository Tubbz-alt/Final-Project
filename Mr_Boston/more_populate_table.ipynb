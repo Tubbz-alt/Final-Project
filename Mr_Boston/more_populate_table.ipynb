{
 "cells": [
  {
   "cell_type": "code",
   "execution_count": null,
   "metadata": {},
   "outputs": [],
   "source": [
    "from credentials import user, password, rds_host\n",
    "import pymysql\n",
    "import pandas as pd\n",
    "from boston_functions import *\n",
    "import re\n",
    "import numpy as np\n",
    "from liquid import liquids\n",
    "from garnish import garnishes"
   ]
  },
  {
   "cell_type": "code",
   "execution_count": null,
   "metadata": {},
   "outputs": [],
   "source": [
    "data = pd.read_csv(\"./mr-boston-all-glasses.csv\")\n",
    "\n",
    "data = data[data.loc[:, \"glass-size\"].notna()]\n",
    "# data"
   ]
  },
  {
   "cell_type": "code",
   "execution_count": null,
   "metadata": {},
   "outputs": [],
   "source": [
    "valid_units = [\"oz\", \"tsp\", \"splash\", \"dash\"]\n",
    "\n",
    "fill_liquid = [\"ginger ale\", \"carbonated water\", \"cola\", \"water\", \"chilled champagne\", \"soda water\", \n",
    "               \"club soda\", \"ginger ale or soda water\", \"lemon-lime soda\", \"ginger beer\", \"bitter lemon soda\",\n",
    "               \"apple juice\", \"orange juice\"]\n",
    "\n",
    "invaild_ingredients = ['chopped', 'cut in half', 'cut in halves', 'cut into halves', 'flamed', 'hulled', 'long', 'skinned',\n",
    "                       'whipped', \"preferably b.a. reynold's\", 'preferably jamaican', 'preferably japanese', \n",
    "                       'preferably pedro ximenez', \"such as bittermen's elemakule\", 'such as demerara', \n",
    "                       'such as islay or skye', 'such as nasturtium']\n",
    "\n",
    "ingredient_indicies = range(3, 14)"
   ]
  },
  {
   "cell_type": "code",
   "execution_count": null,
   "metadata": {},
   "outputs": [],
   "source": [
    "categories = list(set(data.iloc[:, 1])) + [\"AI Instant Classic\"]"
   ]
  },
  {
   "cell_type": "code",
   "execution_count": null,
   "metadata": {},
   "outputs": [],
   "source": [
    "all_recipies, measures = get_cocktail_recipies(data, ingredient_indicies, liquids, garnishes, invaild_ingredients, valid_units)"
   ]
  },
  {
   "cell_type": "code",
   "execution_count": null,
   "metadata": {},
   "outputs": [],
   "source": [
    "# measures"
   ]
  },
  {
   "cell_type": "markdown",
   "metadata": {},
   "source": []
  },
  {
   "cell_type": "code",
   "execution_count": null,
   "metadata": {},
   "outputs": [],
   "source": [
    "all_recipies[1]"
   ]
  },
  {
   "cell_type": "code",
   "execution_count": null,
   "metadata": {},
   "outputs": [],
   "source": [
    "names = []\n",
    "glasses = []\n",
    "glass_sizes = []\n",
    "for i in range(len(all_recipies)):\n",
    "    names.append(all_recipies[i][\"name\"])\n",
    "    glasses.append(all_recipies[i][\"glass\"])\n",
    "    glass_sizes.append(all_recipies[i][\"glass_size\"])\n",
    "glass_df = pd.DataFrame({\"cocktail_name\": names, \"glass_name\": glasses, \"glass_size\": glass_sizes})\n",
    "# glass_df.head()"
   ]
  },
  {
   "cell_type": "code",
   "execution_count": null,
   "metadata": {},
   "outputs": [],
   "source": [
    "svg_data = pd.read_csv(\"../glasses.csv\")\n",
    "svg_data.head()"
   ]
  },
  {
   "cell_type": "code",
   "execution_count": null,
   "metadata": {},
   "outputs": [],
   "source": [
    "df = svg_data.loc[svg_data[\"name\"]==\"fluted_lager\", :]\n",
    "df['mask'].to_string(index=False)"
   ]
  },
  {
   "cell_type": "code",
   "execution_count": null,
   "metadata": {},
   "outputs": [],
   "source": [
    "masks = []\n",
    "paths = []\n",
    "mask_heights = []\n",
    "mask_top_margins = []\n",
    "for i in range(len(glass_df)):\n",
    "    glass_name = glass_df.iloc[i, 1]\n",
    "    if glass_name == \"Beer Mug\":\n",
    "        df = svg_data.loc[svg_data[\"name\"]==\"fluted_lager\", :]\n",
    "        masks.append(df[\"mask\"].to_string(index=False))\n",
    "        paths.append(df[\"path\"].to_string(index=False))\n",
    "        mask_heights.append(df[\"maskHeight\"].to_string(index=False))\n",
    "        mask_top_margins.append(df[\"maskTopMargin\"].to_string(index=False))\n",
    "    elif (glass_name == \"Brandy Snifter\") or (glass_name == \"Red-Wine Glass\") or (glass_name == \"White-Wine Glass\"):\n",
    "        df = svg_data.loc[svg_data[\"name\"]==\"poco_grande\", :]\n",
    "        masks.append(df[\"mask\"].to_string(index=False))\n",
    "        paths.append(df[\"path\"].to_string(index=False))\n",
    "        mask_heights.append(df[\"maskHeight\"].to_string(index=False))\n",
    "        mask_top_margins.append(df[\"maskTopMargin\"].to_string(index=False))\n",
    "    elif glass_name == \"Champagne Flute\":\n",
    "        df = svg_data.loc[svg_data[\"name\"]==\"champagne_extra_fluted\", :]\n",
    "        masks.append(df[\"mask\"].to_string(index=False))\n",
    "        paths.append(df[\"path\"].to_string(index=False))\n",
    "        mask_heights.append(df[\"maskHeight\"].to_string(index=False))\n",
    "        mask_top_margins.append(df[\"maskTopMargin\"].to_string(index=False))\n",
    "    elif glass_name == \"Cocktail Glass\":\n",
    "        df = svg_data.loc[svg_data[\"name\"]==\"cocktail_lg\", :]\n",
    "        masks.append(df[\"mask\"].to_string(index=False))\n",
    "        paths.append(df[\"path\"].to_string(index=False))\n",
    "        mask_heights.append(df[\"maskHeight\"].to_string(index=False))\n",
    "        mask_top_margins.append(df[\"maskTopMargin\"].to_string(index=False))\n",
    "    elif glass_name == \"Collins Glass\":\n",
    "        df = svg_data.loc[svg_data[\"name\"]==\"collins\", :]\n",
    "        masks.append(df[\"mask\"].to_string(index=False))\n",
    "        paths.append(df[\"path\"].to_string(index=False))\n",
    "        mask_heights.append(df[\"maskHeight\"].to_string(index=False))\n",
    "        mask_top_margins.append(df[\"maskTopMargin\"].to_string(index=False))\n",
    "    elif (glass_name == \"Cordial or Pony Glass\") or (glass_name == \"Pousse-Cafe Glass\") or (glass_name == \"Sherry Glass\"):\n",
    "        df = svg_data.loc[svg_data[\"name\"]==\"pousse_cafe\", :]\n",
    "        masks.append(df[\"mask\"].to_string(index=False))\n",
    "        paths.append(df[\"path\"].to_string(index=False))\n",
    "        mask_heights.append(df[\"maskHeight\"].to_string(index=False))\n",
    "        mask_top_margins.append(df[\"maskTopMargin\"].to_string(index=False))\n",
    "    elif glass_name == \"Highball Glass\":\n",
    "        df = svg_data.loc[svg_data[\"name\"]==\"highball\", :]\n",
    "        masks.append(df[\"mask\"].to_string(index=False))\n",
    "        paths.append(df[\"path\"].to_string(index=False))\n",
    "        mask_heights.append(df[\"maskHeight\"].to_string(index=False))\n",
    "        mask_top_margins.append(df[\"maskTopMargin\"].to_string(index=False))\n",
    "    elif glass_name == \"Hurricane Glass\":\n",
    "        df = svg_data.loc[svg_data[\"name\"]==\"hurricane\", :]\n",
    "        masks.append(df[\"mask\"].to_string(index=False))\n",
    "        paths.append(df[\"path\"].to_string(index=False))\n",
    "        mask_heights.append(df[\"maskHeight\"].to_string(index=False))\n",
    "        mask_top_margins.append(df[\"maskTopMargin\"].to_string(index=False))\n",
    "    elif glass_name == \"Irish Coffee Glass\":\n",
    "        df = svg_data.loc[svg_data[\"name\"]==\"irish_coffee\", :]\n",
    "        masks.append(df[\"mask\"].to_string(index=False))\n",
    "        paths.append(df[\"path\"].to_string(index=False))\n",
    "        mask_heights.append(df[\"maskHeight\"].to_string(index=False))\n",
    "        mask_top_margins.append(df[\"maskTopMargin\"].to_string(index=False))\n",
    "    elif glass_name == \"Old-Fashioned Glass\":\n",
    "        df = svg_data.loc[svg_data[\"name\"]==\"old_fashioned\", :]\n",
    "        masks.append(df[\"mask\"].to_string(index=False))\n",
    "        paths.append(df[\"path\"].to_string(index=False))\n",
    "        mask_heights.append(df[\"maskHeight\"].to_string(index=False))\n",
    "        mask_top_margins.append(df[\"maskTopMargin\"].to_string(index=False))\n",
    "    elif (glass_name == \"Punch Cup\") or (glass_name == \"Shot Glass\"):\n",
    "        df = svg_data.loc[svg_data[\"name\"]==\"rocks\", :]\n",
    "        masks.append(df[\"mask\"].to_string(index=False))\n",
    "        paths.append(df[\"path\"].to_string(index=False))\n",
    "        mask_heights.append(df[\"maskHeight\"].to_string(index=False))\n",
    "        mask_top_margins.append(df[\"maskTopMargin\"].to_string(index=False))\n",
    "    elif glass_name == \"Sour Glass\":\n",
    "        df = svg_data.loc[svg_data[\"name\"]==\"champagne_flute\", :]\n",
    "        masks.append(df[\"mask\"].to_string(index=False))\n",
    "        paths.append(df[\"path\"].to_string(index=False))\n",
    "        mask_heights.append(df[\"maskHeight\"].to_string(index=False))\n",
    "        mask_top_margins.append(df[\"maskTopMargin\"].to_string(index=False))\n",
    "# print(len(masks), len(paths), len(mask_heights), len(mask_top_margins))\n",
    "glass_df[\"mask\"] = masks\n",
    "glass_df[\"path\"] = paths\n",
    "glass_df[\"mask_height\"] = mask_heights\n",
    "glass_df[\"mask_top_margin\"] = mask_top_margins\n",
    "glass_df.head()"
   ]
  },
  {
   "cell_type": "code",
   "execution_count": null,
   "metadata": {},
   "outputs": [],
   "source": [
    "def populate_glass_table(glass_df):\n",
    "    conn = pymysql.connect(rds_host, user=user, password=password, connect_timeout=50)\n",
    "    cursor = conn.cursor()\n",
    "    cursor.execute('USE cocktailproject')\n",
    "    for row in range(len(glass_df)):\n",
    "        glass_name = glass_df.iloc[row, 1]\n",
    "        glass_size = glass_df.iloc[row, 2]\n",
    "        mask = glass_df.iloc[row, 3]\n",
    "        path = glass_df.iloc[row, 4]\n",
    "        mask_height = glass_df.iloc[row, 5]\n",
    "        mask_top_margin = glass_df.iloc[row, 6]\n",
    "        print(glass_name, glass_size)\n",
    "        sql = f\"INSERT INTO Glasses (Glass_Name, Glass_Size, Mask, Path, Mask_Height, Mask_Top_Margin) VALUES ('{glass_name}', '{glass_size}', '{mask}', '{path}', '{mask_height}', '{mask_top_margin}');\"\n",
    "        cursor.execute(sql)\n",
    "    conn.commit()\n",
    "    cursor.execute(\"SELECT * FROM Glasses\")\n",
    "    data = cursor.fetchall()\n",
    "    print(data)\n",
    "    conn.close()\n",
    "populate_glass_table(glass_df)"
   ]
  },
  {
   "cell_type": "code",
   "execution_count": null,
   "metadata": {},
   "outputs": [],
   "source": [
    "cocktail_table_sql = \"CREATE TABLE Cocktails ( \\\n",
    "                        Cocktail_ID INT NOT NULL PRIMARY KEY AUTO_INCREMENT \\\n",
    "                        , Cocktail_Name VARCHAR(80) \\\n",
    "                        , Glass_ID INT \\\n",
    "                        , Category_ID INT \\\n",
    "                        , FOREIGN KEY (Glass_ID) REFERENCES Glasses(Glass_ID) \\\n",
    "                        , FOREIGN KEY (Category_ID) REFERENCES Categories(Category_ID) \\\n",
    "                        );\""
   ]
  },
  {
   "cell_type": "code",
   "execution_count": null,
   "metadata": {},
   "outputs": [],
   "source": [
    "category_ids = []\n",
    "glass_ids = []\n",
    "for i in range(len(all_recipies)):\n",
    "    category = all_recipies[i][\"category\"]\n",
    "    \n",
    "    conn = pymysql.connect(rds_host, user=user, password=password, connect_timeout=50)\n",
    "    cursor = conn.cursor()\n",
    "    cursor.execute('USE cocktailproject')\n",
    "    \n",
    "    sql = f\"SELECT Category_ID FROM Categories WHERE Category_Name='{category}'\"\n",
    "    cursor.execute(sql)\n",
    "    data = cursor.fetchall()\n",
    "    category_ids.append(data[0][0])\n",
    "    \n",
    "    sql = f\"SELECT Glass_ID FROM Glasses WHERE Glass_Name='{glasses[i]}'\"\n",
    "    cursor.execute(sql)\n",
    "    data = cursor.fetchall()\n",
    "    glass_ids.append(data[0][0])\n",
    "\n",
    "conn.close()\n",
    "print(category_ids[0], glass_ids[0])"
   ]
  },
  {
   "cell_type": "code",
   "execution_count": null,
   "metadata": {},
   "outputs": [],
   "source": [
    "cocktail_df = pd.DataFrame({\"cocktail_name\": names, \"glass_id\": glass_ids, \"category_ids\": category_ids})\n",
    "cocktail_df.head()"
   ]
  },
  {
   "cell_type": "code",
   "execution_count": null,
   "metadata": {},
   "outputs": [],
   "source": [
    "def populate_cocktail_table(cocktail_df):\n",
    "    conn = pymysql.connect(rds_host, user=user, password=password, connect_timeout=50)\n",
    "    cursor = conn.cursor()\n",
    "    cursor.execute('USE cocktailproject')\n",
    "    for row in range(len(cocktail_df)):\n",
    "        cocktail_name = cocktail_df.iloc[row, 0]\n",
    "        glass_id = cocktail_df.iloc[row, 1]\n",
    "        category_id = cocktail_df.iloc[row, 2]\n",
    "        print(cocktail_name)\n",
    "        sql = f\"INSERT INTO Cocktails (Cocktail_Name, Glass_ID, Category_ID) VALUES ('{cocktail_name}', '{glass_id}', '{category_id}');\"\n",
    "        cursor.execute(sql)\n",
    "    conn.commit()\n",
    "    cursor.execute(\"SELECT * FROM Cocktails\")\n",
    "    data = cursor.fetchall()\n",
    "    print(data)\n",
    "    conn.close()\n",
    "# populate_cocktail_table(cocktail_df)"
   ]
  },
  {
   "cell_type": "code",
   "execution_count": null,
   "metadata": {},
   "outputs": [],
   "source": [
    "liquid_instructions_table_sql = \"CREATE TABLE Liquid_Instuctions ( \\\n",
    "                                Liquid_Instruction_ID INT NOT NULL PRIMARY KEY AUTO_INCREMENT \\\n",
    "                                , Cocktail_ID INT \\\n",
    "                                , Liquid_ID INT \\\n",
    "                                , Measure VARCHAR(24) \\\n",
    "                                , FOREIGN KEY (Cocktail_ID) REFERENCES Cocktails(Cocktail_ID) \\\n",
    "                                , FOREIGN KEY (Liquid_ID) REFERENCES Liquids(Liquid_ID) \\\n",
    "                                );\""
   ]
  },
  {
   "cell_type": "code",
   "execution_count": null,
   "metadata": {},
   "outputs": [],
   "source": [
    "def populate_liquid_instructions_table(liquid_instructions_df):\n",
    "    conn = pymysql.connect(rds_host, user=user, password=password, connect_timeout=50)\n",
    "    cursor = conn.cursor()\n",
    "    cursor.execute('USE cocktailproject')\n",
    "    for row in range(len(liquid_instructions_df)):\n",
    "        cocktail_id = liquid_instructions_df.iloc[row, 0]\n",
    "        liquid_id = liquid_instructions_df.iloc[row, 1]\n",
    "        measure = liquid_instructions_df.iloc[row, 2]\n",
    "        print(liquid_id, measure)\n",
    "        sql = f\"INSERT INTO Liquid_Instuctions (Cocktail_ID, Liquid_ID, Measure) VALUES ('{cocktail_id}', '{liquid_id}', '{measure}');\"\n",
    "        cursor.execute(sql)\n",
    "    conn.commit()\n",
    "    cursor.execute(\"SELECT * FROM Liquid_Instuctions\")\n",
    "    data = cursor.fetchall()\n",
    "    print(data)\n",
    "    conn.close()"
   ]
  },
  {
   "cell_type": "code",
   "execution_count": null,
   "metadata": {},
   "outputs": [],
   "source": [
    "garnish_instructions_table_sql = \"CREATE TABLE Garnish_Instuctions ( \\\n",
    "                                    Garnish_Instruction_ID INT NOT NULL PRIMARY KEY AUTO_INCREMENT \\\n",
    "                                    , Cocktail_ID INT \\\n",
    "                                    , Garnish_ID INT \\\n",
    "                                    , FOREIGN KEY (Cocktail_ID) REFERENCES Cocktails(Cocktail_ID) \\\n",
    "                                    , FOREIGN KEY (Garnish_ID) REFERENCES Garnishes(Garnish_ID) \\\n",
    "                                    );\""
   ]
  },
  {
   "cell_type": "code",
   "execution_count": null,
   "metadata": {},
   "outputs": [],
   "source": [
    "def populate_garnish_instructions_table(garnish_instructions_df):\n",
    "    conn = pymysql.connect(rds_host, user=user, password=password, connect_timeout=50)\n",
    "    cursor = conn.cursor()\n",
    "    cursor.execute('USE cocktailproject')\n",
    "    for row in range(len(garnish_instructions_df)):\n",
    "        cocktail_id = garnish_instructions_df.iloc[row, 0]\n",
    "        garnish_id = garnish_instructions_df.iloc[row, 1]\n",
    "        print(garnish_id)\n",
    "        sql = f\"INSERT INTO Garnish_Instuctions (Cocktail_ID, Liquid_ID) VALUES ('{cocktail_id}', '{liquid_id}');\"\n",
    "        cursor.execute(sql)\n",
    "    conn.commit()\n",
    "    cursor.execute(\"SELECT * FROM Garnish_Instuctions\")\n",
    "    data = cursor.fetchall()\n",
    "    print(data)\n",
    "    conn.close()"
   ]
  },
  {
   "cell_type": "code",
   "execution_count": null,
   "metadata": {},
   "outputs": [],
   "source": [
    "rating_table_sql = \"CREATE TABLE Ratings ( \\\n",
    "                Rating_ID INT NOT NULL PRIMARY KEY AUTO_INCREMENT \\\n",
    "                , Rating INT \\\n",
    "                , Cocktail_ID INT\\\n",
    "                , FOREIGN KEY (Cocktail_ID) REFERENCES Cocktails(Cocktail_ID) \\\n",
    "                );\""
   ]
  },
  {
   "cell_type": "code",
   "execution_count": null,
   "metadata": {},
   "outputs": [],
   "source": [
    "def populate_rating_table(rating_df):\n",
    "    conn = pymysql.connect(rds_host, user=user, password=password, connect_timeout=50)\n",
    "    cursor = conn.cursor()\n",
    "    cursor.execute('USE cocktailproject')\n",
    "    for row in range(len(rating_df)):\n",
    "        rating = rating_df.iloc[row, 0]\n",
    "        cocktail_id = rating_df.iloc[row, 1]\n",
    "        print(rating)\n",
    "        sql = f\"INSERT INTO Ratings (Rating, Cocktail_ID) VALUES ('{rating}','{cocktail_id}');\"\n",
    "        cursor.execute(sql)\n",
    "    conn.commit()\n",
    "    cursor.execute(\"SELECT * FROM Ratings\")\n",
    "    data = cursor.fetchall()\n",
    "    print(data)\n",
    "    conn.close()"
   ]
  },
  {
   "cell_type": "code",
   "execution_count": null,
   "metadata": {},
   "outputs": [],
   "source": []
  },
  {
   "cell_type": "code",
   "execution_count": null,
   "metadata": {},
   "outputs": [],
   "source": []
  }
 ],
 "metadata": {
  "kernelspec": {
   "display_name": "Python 3",
   "language": "python",
   "name": "python3"
  },
  "language_info": {
   "codemirror_mode": {
    "name": "ipython",
    "version": 3
   },
   "file_extension": ".py",
   "mimetype": "text/x-python",
   "name": "python",
   "nbconvert_exporter": "python",
   "pygments_lexer": "ipython3",
   "version": "3.6.5"
  }
 },
 "nbformat": 4,
 "nbformat_minor": 2
}
